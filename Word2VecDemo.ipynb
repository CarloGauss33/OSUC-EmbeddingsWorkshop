{
  "nbformat": 4,
  "nbformat_minor": 0,
  "metadata": {
    "colab": {
      "provenance": []
    },
    "kernelspec": {
      "name": "python3",
      "display_name": "Python 3"
    },
    "language_info": {
      "name": "python"
    }
  },
  "cells": [
    {
      "cell_type": "markdown",
      "source": [
        "[Descargar GoogleNews-vectors-negative300.bin.gz](https://drive.google.com/file/d/10SaZ575sIvjKTjXH9OIHW2ORC-fqliyu/view?usp=sharing)"
      ],
      "metadata": {
        "id": "x3tnH2ZO8WSd"
      }
    },
    {
      "cell_type": "code",
      "execution_count": 2,
      "metadata": {
        "colab": {
          "base_uri": "https://localhost:8080/"
        },
        "id": "CH7Smfz28OUH",
        "outputId": "2521175c-b138-41f3-e2b8-70e6c2a50026"
      },
      "outputs": [
        {
          "output_type": "stream",
          "name": "stdout",
          "text": [
            "Mounted at /content/drive\n"
          ]
        }
      ],
      "source": [
        "import gensim\n",
        "\n",
        "from google.colab import drive\n",
        "drive.mount('/content/drive')"
      ]
    },
    {
      "cell_type": "code",
      "source": [
        "!gunzip -f \"/content/drive/MyDrive/Data/GoogleNews-vectors-negative300.bin.gz\""
      ],
      "metadata": {
        "id": "0pWqV2TF8Umt"
      },
      "execution_count": 3,
      "outputs": []
    },
    {
      "cell_type": "code",
      "source": [
        "model = gensim.models.KeyedVectors.load_word2vec_format(\"/content/drive/MyDrive/Data/GoogleNews-vectors-negative300.bin\", binary=True)"
      ],
      "metadata": {
        "id": "r-qo6Do58zmM"
      },
      "execution_count": 7,
      "outputs": []
    },
    {
      "cell_type": "code",
      "source": [
        "\n",
        "cat_vector = model.get_vector('cat')\n",
        "model.similar_by_vector(cat_vector)"
      ],
      "metadata": {
        "id": "G0Lg7cGE9NXl"
      },
      "execution_count": null,
      "outputs": []
    },
    {
      "cell_type": "code",
      "source": [
        "model.most_similar_cosmul(positive=['dog', 'meow'], negative=['woof'])"
      ],
      "metadata": {
        "colab": {
          "base_uri": "https://localhost:8080/"
        },
        "id": "YK2WayKB-sFK",
        "outputId": "4d92285e-c8cf-400e-8202-8eba55a63f09"
      },
      "execution_count": 16,
      "outputs": [
        {
          "output_type": "execute_result",
          "data": {
            "text/plain": [
              "[('cat', 0.9634605050086975),\n",
              " ('pit_bull', 0.9633856415748596),\n",
              " ('beagle', 0.9610252380371094),\n",
              " ('cocker_spaniel', 0.9568959474563599),\n",
              " ('Sheltie', 0.9519773721694946),\n",
              " ('dogs', 0.9511864185333252),\n",
              " ('puppy', 0.9495542645454407),\n",
              " ('poodle_mix', 0.9446244239807129),\n",
              " ('German_shepherd', 0.9416751861572266),\n",
              " ('sheltie', 0.9370089769363403)]"
            ]
          },
          "metadata": {},
          "execution_count": 16
        }
      ]
    },
    {
      "cell_type": "code",
      "source": [],
      "metadata": {
        "id": "yPk4w9lR--Wv"
      },
      "execution_count": null,
      "outputs": []
    }
  ]
}